{
  "nbformat": 4,
  "nbformat_minor": 0,
  "metadata": {
    "colab": {
      "name": "How_Monte_Carlo_Works.ipynb",
      "provenance": [],
      "collapsed_sections": [],
      "authorship_tag": "ABX9TyNIiNAZg6PBLkaBWEdtF1xQ",
      "include_colab_link": true
    },
    "kernelspec": {
      "name": "python3",
      "display_name": "Python 3"
    }
  },
  "cells": [
    {
      "cell_type": "markdown",
      "metadata": {
        "id": "view-in-github",
        "colab_type": "text"
      },
      "source": [
        "<a href=\"https://colab.research.google.com/github/Weikang01/Do_something_with_tensorflow_and_keras/blob/master/How_Monte_Carlo_Works.ipynb\" target=\"_parent\"><img src=\"https://colab.research.google.com/assets/colab-badge.svg\" alt=\"Open In Colab\"/></a>"
      ]
    },
    {
      "cell_type": "markdown",
      "metadata": {
        "id": "reuzgzUgih1X",
        "colab_type": "text"
      },
      "source": [
        "##<b>用Monte Carlo随机采样的方式来近似$\\pi$</b><br>\n",
        "在x,y轴各自（-1，1）的正方形区间均匀概率分布中随机采样获得n个点，那么该点落在正方形区间中内接圆的几率是多少呢？<br>\n",
        "* 通过几何概率分布，我们可以算出：<br>\n",
        "$$P(x^2+y^2\\leqslant1|-1\\leqslant x\\leqslant1,-1\\leqslant y\\leqslant1)=\\frac{A_{circle}}{A_{square}}$$\n",
        "$$A_{square}=2^2=2\\times2$$\n",
        "$$A_{circle}=\\pi r=\\pi1^2=\\pi$$\n",
        "$$\\frac{A_{circle}}{A_{square}}=\\frac{\\pi}{4}$$\n",
        "* 于是，当采样数为n时，在圆内的点的数量期望为：<br>\n",
        "$$P_n=\\frac{\\pi n}{4}$$\n",
        "* 因此，假设进行n次采样，找到m个在圆内的点，根据大数定律，当n很大时：<br>\n",
        "$$m\\approx \\frac{\\pi n}{4}$$\n",
        "$$thus, \\frac{4m}{n}\\approx\\pi$$"
      ]
    },
    {
      "cell_type": "code",
      "metadata": {
        "id": "coCVvnvzeSpl",
        "colab_type": "code",
        "colab": {
          "base_uri": "https://localhost:8080/",
          "height": 136
        },
        "outputId": "897e7a26-9629-44c3-d571-8ad0bbfd26f7"
      },
      "source": [
        "import numpy as np\n",
        "import pandas as pd\n",
        "n=100000\n",
        "points=pd.DataFrame(np.random.uniform(-1,1,(n,2)),columns=['x','y'],dtype='float64')\n",
        "points.head(3)"
      ],
      "execution_count": 33,
      "outputs": [
        {
          "output_type": "execute_result",
          "data": {
            "text/html": [
              "<div>\n",
              "<style scoped>\n",
              "    .dataframe tbody tr th:only-of-type {\n",
              "        vertical-align: middle;\n",
              "    }\n",
              "\n",
              "    .dataframe tbody tr th {\n",
              "        vertical-align: top;\n",
              "    }\n",
              "\n",
              "    .dataframe thead th {\n",
              "        text-align: right;\n",
              "    }\n",
              "</style>\n",
              "<table border=\"1\" class=\"dataframe\">\n",
              "  <thead>\n",
              "    <tr style=\"text-align: right;\">\n",
              "      <th></th>\n",
              "      <th>x</th>\n",
              "      <th>y</th>\n",
              "    </tr>\n",
              "  </thead>\n",
              "  <tbody>\n",
              "    <tr>\n",
              "      <th>0</th>\n",
              "      <td>-0.421128</td>\n",
              "      <td>-0.827360</td>\n",
              "    </tr>\n",
              "    <tr>\n",
              "      <th>1</th>\n",
              "      <td>0.731140</td>\n",
              "      <td>0.345527</td>\n",
              "    </tr>\n",
              "    <tr>\n",
              "      <th>2</th>\n",
              "      <td>0.939470</td>\n",
              "      <td>0.621425</td>\n",
              "    </tr>\n",
              "  </tbody>\n",
              "</table>\n",
              "</div>"
            ],
            "text/plain": [
              "          x         y\n",
              "0 -0.421128 -0.827360\n",
              "1  0.731140  0.345527\n",
              "2  0.939470  0.621425"
            ]
          },
          "metadata": {
            "tags": []
          },
          "execution_count": 33
        }
      ]
    },
    {
      "cell_type": "code",
      "metadata": {
        "id": "oaV-O8JxeyC4",
        "colab_type": "code",
        "colab": {
          "base_uri": "https://localhost:8080/",
          "height": 34
        },
        "outputId": "f6cde9c7-b4ae-4f14-f1a0-4fdd60f0543b"
      },
      "source": [
        "points['in_circle']=(points.x**2+points.y**2)<=1\n",
        "np.mean(points['in_circle']) * 4"
      ],
      "execution_count": 34,
      "outputs": [
        {
          "output_type": "execute_result",
          "data": {
            "text/plain": [
              "3.14408"
            ]
          },
          "metadata": {
            "tags": []
          },
          "execution_count": 34
        }
      ]
    },
    {
      "cell_type": "markdown",
      "metadata": {
        "id": "kSwVY7MTqvie",
        "colab_type": "text"
      },
      "source": [
        "Monte Carlo随机抽样一个在实际工作中更实际的功能是用来近似求复杂函数的积分<br>\n",
        "#<b>用Monte Carlo近似求积分</b><br>\n",
        "#### 先来看看x为一个标量的情况（一元函数）\n",
        "* 我们有一个函数，e.g.:$$f(x)=\\frac{1}{1+\\sin(x)\\cdot(log_ex)^2}$$\n",
        "* 计算其定积分：$$I=\\int^3_{0.8}f(x)dx$$\n",
        "* 如果$f(x)$非常复杂，可能无法求出其积分的解析表达式\n",
        "* 此时，一个好办法是使用Monte Carlo来近似积分结果\n",
        "<br><br>\n",
        "> 目标：给定函数$f(x)$，求出其在[a,b]区间的定积分\n",
        "1. 在[a,b]区间内均匀采样n个样本；记为：$x_1,x_2...$\n",
        "2. 计算$f(x)$在每个样本$x_i$的函数值，然后对其求平均，再乘以区间大小(b-a)$$Q_n=(b-a)\\cdot\\frac{1}{n}\\sum^n_{i=1}f(x_i)$$\n",
        "3. 把$Q_n$当作积分结果$I$的近似$$I=\\int^b_af(x)dx$$\n",
        "> Law of large numbers可以保证Monte Carlo的正确性 $Q_n\\rightarrow I$，as $ n\\rightarrow \\infty$<br><br>\n",
        "###<b> 实际求一下$f(x)=\\frac{1}{1+\\sin(x)\\cdot(log_ex)^2}$在区间[0.8,3]的定积分<b>\n"
      ]
    },
    {
      "cell_type": "code",
      "metadata": {
        "id": "pcxiQWxiwpx7",
        "colab_type": "code",
        "colab": {}
      },
      "source": [
        "def func(x):\n",
        "  return 1/(1+np.sin(x)*np.log(x)**2)"
      ],
      "execution_count": 0,
      "outputs": []
    },
    {
      "cell_type": "code",
      "metadata": {
        "id": "JqBJzbJqxJC7",
        "colab_type": "code",
        "colab": {
          "base_uri": "https://localhost:8080/",
          "height": 50
        },
        "outputId": "5edbd060-634e-49f0-8d63-86afa5b82fab"
      },
      "source": [
        "n=100000\n",
        "x=np.random.uniform(0.8,3,n).astype('float64')\n",
        "y=func(x)\n",
        "y"
      ],
      "execution_count": 38,
      "outputs": [
        {
          "output_type": "execute_result",
          "data": {
            "text/plain": [
              "array([0.74239757, 0.66165115, 0.99244374, ..., 0.67499347, 0.98259467,\n",
              "       0.74419807])"
            ]
          },
          "metadata": {
            "tags": []
          },
          "execution_count": 38
        }
      ]
    },
    {
      "cell_type": "code",
      "metadata": {
        "id": "swzRmuOXxn6N",
        "colab_type": "code",
        "colab": {
          "base_uri": "https://localhost:8080/",
          "height": 34
        },
        "outputId": "4f959ba7-3b79-41e9-c3cc-d8bfe68da9d5"
      },
      "source": [
        "Q_n=(3-0.8)*np.mean(y)\n",
        "Q_n"
      ],
      "execution_count": 39,
      "outputs": [
        {
          "output_type": "execute_result",
          "data": {
            "text/plain": [
              "1.7563692128376223"
            ]
          },
          "metadata": {
            "tags": []
          },
          "execution_count": 39
        }
      ]
    },
    {
      "cell_type": "markdown",
      "metadata": {
        "id": "ejj4qzbwyV6d",
        "colab_type": "text"
      },
      "source": [
        "# <b>再来看看$x$为一个向量的情况</b><br>#\n",
        "> 目标：给定一个多元函数$f(x),(x\\in\\mathbb{R}^d)$，计算其在集合$\\Omega,(\\Omega\\subset\\mathbb{R}^d)$的定积分$I=\\int_{\\Omega}f(x)dx$\n",
        "\n",
        "* 方法：<br>\n",
        " 1. 从集合$\\Omega$中均匀抽取n个样本，记为$x_1,...,x_n$\n",
        " 2. 计算集合$\\Omega$的体积：$V=\\int_{\\Omega}dx.$（注意，这个体积也是一个定积分，这可能和原问题同样困难。如果$\\Omega$形状很复杂，我们就无法计算出体积$V$。为了避免这种情况，必须让集合$\\Omega$是一个简单的形状，比如长方体、球体等等，这样我们就无需计算定积分，直接用公式就能求出其体积。\n",
        " 3. 接着求所有n个函数值的平均并乘以体积$V$：$$Q_n=V\\cdot\\frac{1}{n}\\sum^n_{i=1}f(x_i)$$\n",
        " 4. 返回$Q_n$并将其作为定积分$I$的近似"
      ]
    },
    {
      "cell_type": "markdown",
      "metadata": {
        "id": "X4yJ9Hj663mr",
        "colab_type": "text"
      },
      "source": [
        "# <b>使用Monte Carlo来近似期望</b>\n",
        "#### 期望的定义：\n",
        "\n",
        "* 设$X$为d维的随机变量，通常把观测值记为小写$x$，而随机变量记为大写$X$\n",
        "* 函数$p(x)$是随机变量$X$在某个取值点附近的概率密度函数（probability density function, PDF）\n",
        " * 其满足$\\int_{\\mathbb{R}^d}p(x)dx=1$（概率密度函数的性质）\n",
        " * 如一元均匀分布的概率密度函数:$p(x)=\\frac{1}{t}$,for $x\\in[0,t]$.\n",
        " * 如一元高斯分布的概率密度函数:$p(x)=\\frac{1}{\\sigma\\sqrt{2\\pi}}exp[-\\frac{(x-\\mu)^2}{2\\sigma^2}]$\n",
        "<br><br>\n",
        "\n",
        "## <b>近似求期望的步骤</b>\n",
        "> 目标：估计期望：$\\mathbb{E}_{X\\sim p}[f(X)]=\\int_{\\mathbb{R}^b}f(x)\\cdot p(x)dx$\n",
        "\n",
        "1. 根据概率密度函数$p(x)$抽取$n$个随机样本，记为$x_1,...,x_n$\n",
        "2. 计算$Q_n=\\frac{1}{n}\\sum^n_{i=1}f(x_i)$.\n",
        "3. 返回$Q_n$作为期望$\\mathbb{E}_{X\\sim p}[f(X)]$的近似"
      ]
    },
    {
      "cell_type": "markdown",
      "metadata": {
        "id": "d7nPNZHO_0Ik",
        "colab_type": "text"
      },
      "source": [
        "## 对Monte Carlo Algorithm的总结\n",
        "* Monte Carlo的计算结果是错误的\n",
        " * 但是它们都接近真实结果\n",
        " * 比如随机梯度算法（SGD）就是一种Monte Carlo算法"
      ]
    }
  ]
}