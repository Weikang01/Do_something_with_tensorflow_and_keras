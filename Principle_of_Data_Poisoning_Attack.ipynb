{
  "nbformat": 4,
  "nbformat_minor": 0,
  "metadata": {
    "colab": {
      "name": "Principle_of_Data_Poisoning_Attack.ipynb",
      "provenance": [],
      "collapsed_sections": [],
      "authorship_tag": "ABX9TyMOCSdxz/1J4CtE2xgmftyP",
      "include_colab_link": true
    },
    "kernelspec": {
      "name": "python3",
      "display_name": "Python 3"
    }
  },
  "cells": [
    {
      "cell_type": "markdown",
      "metadata": {
        "id": "view-in-github",
        "colab_type": "text"
      },
      "source": [
        "<a href=\"https://colab.research.google.com/github/Weikang01/Do_something_with_tensorflow_and_keras/blob/master/Principle_of_Data_Poisoning_Attack.ipynb\" target=\"_parent\"><img src=\"https://colab.research.google.com/assets/colab-badge.svg\" alt=\"Open In Colab\"/></a>"
      ]
    },
    {
      "cell_type": "markdown",
      "metadata": {
        "id": "hAWEGNgagI5c",
        "colab_type": "text"
      },
      "source": [
        "本文是对https://www.youtube.com/watch?v=_K0nZcqdu5w 视频做的笔记<br>\n",
        "在网络测试阶段加入精心计算过的扰动，可以在几乎肉眼无法察觉的情况下改变网络![只对图片进行了肉眼微不可见的修改，模型结果就产生了巨大的变化。](https://www.eyerys.com/sites/default/files/adversarial-examples-1.jpg)<br>\n",
        "论文地址：https://arxiv.org/abs/1708.06131"
      ]
    },
    {
      "cell_type": "markdown",
      "metadata": {
        "id": "9CPmKVgOhmm1",
        "colab_type": "text"
      },
      "source": [
        "* Data evation attack发生在测试阶段<br>\n",
        " * Data evation attack会让模型犯错误<br>\n",
        "* 在测试阶段加入有毒的样本，叫做Data poisoning attack<br>\n",
        "Feature Extraction using CNN使用CNN可以进行特征提取<br>\n",
        "目标：计算出一个小扰动，可以让特征值发生很大的变化<br>\n",
        "* Victim Sample X(victim)\n",
        "* 加入一个扰动δ，使得：\n",
        "$$h(x+\\delta^*)\\approx h(x_{victim})$$\n",
        "* 可以通过一个优化模型找到δ：\n",
        "$$\\delta^*=argmin_\\delta||h(x+\\delta)-h(x_{victim})||^2_2+\\lambda||\\delta||^2_2$$\n",
        "其中前半部分的argmax目的是让原来x在加上扰动δ之后与目标x(victim)的特征值尽量接近。后半部分是δ二范数的平方，该项越小意味着扰动越小，越难以被察觉。<br>\n",
        "通过梯度下降，即可找到近似最优的δ*。"
      ]
    }
  ]
}